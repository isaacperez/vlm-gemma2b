{
 "cells": [
  {
   "cell_type": "markdown",
   "metadata": {},
   "source": [
    "# LLM"
   ]
  },
  {
   "cell_type": "code",
   "execution_count": 3,
   "metadata": {},
   "outputs": [
    {
     "name": "stderr",
     "output_type": "stream",
     "text": [
      "Fetching 9 files: 100%|██████████| 9/9 [02:09<00:00, 14.35s/it]\n"
     ]
    }
   ],
   "source": [
    "from mlx_lm import load\n",
    "\n",
    "# Use huggingface-cli for authentication\n",
    "model, tokenizer = load(\"google/gemma-2b-it\")"
   ]
  },
  {
   "cell_type": "code",
   "execution_count": 6,
   "metadata": {},
   "outputs": [
    {
     "data": {
      "text/plain": [
       "'<bos><start_of_turn>user\\nWhy is the sky blue?<end_of_turn>\\n<start_of_turn>model\\n'"
      ]
     },
     "execution_count": 6,
     "metadata": {},
     "output_type": "execute_result"
    }
   ],
   "source": [
    "from mlx_lm import generate\n",
    "\n",
    "# This is what the tokenizer will do internally in the generate() method:\n",
    "messages = [{\"role\": \"user\", \"content\": \"Why is the sky blue?\"}]\n",
    "tokenizer.apply_chat_template(messages, tokenize=False, add_generation_prompt=True)"
   ]
  },
  {
   "cell_type": "code",
   "execution_count": 7,
   "metadata": {},
   "outputs": [
    {
     "name": "stdout",
     "output_type": "stream",
     "text": [
      "==========\n",
      "Prompt: Why is the sky blue?\n",
      "\n",
      "\n",
      "The sky appears blue due to Rayleigh scattering. Rayleigh scattering is the scattering of light by particles of a smaller wavelength. This means that blue light, with a shorter wavelength, is scattered more strongly than longer wavelengths.\n",
      "\n",
      "The blue light from the sun is scattered in all directions by the tiny particles in the Earth's atmosphere. However, the blue light is scattered more strongly because it has a shorter wavelength. This is why the sky appears blue.\n",
      "\n",
      "Rayleigh scattering is a natural phenomenon that occurs in all parts of the world. It is responsible for the blue color of the sky, the blue of the ocean, and the blue of the flowers.\n",
      "==========\n",
      "Prompt: 7.091 tokens-per-sec\n",
      "Generation: 42.385 tokens-per-sec\n"
     ]
    }
   ],
   "source": [
    "# Generating without adding a prompt template manually\n",
    "\n",
    "prompt = \"\"\"\n",
    "Why is the sky blue?\n",
    "\"\"\".strip()\n",
    "\n",
    "response = generate(\n",
    "    model,\n",
    "    tokenizer,\n",
    "    prompt=prompt,\n",
    "    verbose=True,  # Set to True to see the prompt and response\n",
    "    temp=0.0,\n",
    "    max_tokens=256,\n",
    ")"
   ]
  }
 ],
 "metadata": {
  "kernelspec": {
   "display_name": "Python 3",
   "language": "python",
   "name": "python3"
  },
  "language_info": {
   "codemirror_mode": {
    "name": "ipython",
    "version": 3
   },
   "file_extension": ".py",
   "mimetype": "text/x-python",
   "name": "python",
   "nbconvert_exporter": "python",
   "pygments_lexer": "ipython3",
   "version": "3.10.13"
  }
 },
 "nbformat": 4,
 "nbformat_minor": 2
}
